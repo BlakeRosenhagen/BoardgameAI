{
 "cells": [
  {
   "cell_type": "code",
   "execution_count": null,
   "metadata": {
    "scrolled": true
   },
   "outputs": [],
   "source": [
    "run bot_v_bot"
   ]
  },
  {
   "cell_type": "code",
   "execution_count": null,
   "metadata": {},
   "outputs": [],
   "source": [
    "run human_v_bot"
   ]
  },
  {
   "cell_type": "code",
   "execution_count": 1,
   "metadata": {},
   "outputs": [
    {
     "name": "stdout",
     "output_type": "stream",
     "text": [
      " 9  .  .  .  .  .  .  .  .  . \n",
      " 8  .  .  .  .  .  .  .  .  . \n",
      " 7  .  .  .  .  .  .  .  .  . \n",
      " 6  .  .  .  .  .  .  .  .  . \n",
      " 5  .  .  .  .  .  .  .  .  . \n",
      " 4  .  .  .  .  .  .  .  .  . \n",
      " 3  .  .  .  .  .  .  .  .  . \n",
      " 2  .  .  .  .  .  .  .  .  . \n",
      " 1  .  .  .  .  .  .  .  .  . \n",
      "   A B C D E F G H I\n",
      "-- A8\n",
      "Player.black A8\n",
      "True\n",
      " 9  .  .  .  .  .  .  .  .  . \n",
      " 8  x  .  .  .  .  .  .  .  . \n",
      " 7  .  .  .  .  .  .  .  .  . \n",
      " 6  .  .  .  .  .  .  .  .  . \n",
      " 5  .  .  .  .  .  .  .  .  . \n",
      " 4  .  .  .  .  .  .  .  .  . \n",
      " 3  .  .  .  .  .  .  .  .  . \n",
      " 2  .  .  .  .  .  .  .  .  . \n",
      " 1  .  .  .  .  .  .  .  .  . \n",
      "   A B C D E F G H I\n",
      "True\n",
      "True\n",
      "True\n",
      "True\n",
      "True\n",
      "True\n",
      "True\n",
      "True\n",
      "True\n",
      "True\n",
      "True\n",
      "True\n",
      "True\n",
      "True\n",
      "True\n",
      "True\n",
      "True\n",
      "True\n",
      "True\n",
      "True\n",
      "True\n",
      "True\n",
      "True\n",
      "True\n",
      "True\n",
      "True\n",
      "True\n",
      "True\n",
      "True\n",
      "True\n",
      "True\n",
      "True\n",
      "True\n",
      "True\n",
      "True\n",
      "True\n",
      "True\n",
      "True\n",
      "True\n",
      "True\n",
      "True\n",
      "True\n",
      "True\n",
      "True\n",
      "True\n",
      "True\n",
      "True\n",
      "True\n",
      "True\n",
      "True\n",
      "True\n",
      "True\n",
      "True\n",
      "True\n",
      "True\n",
      "True\n",
      "True\n",
      "True\n",
      "True\n",
      "True\n",
      "True\n",
      "True\n",
      "True\n",
      "True\n",
      "True\n",
      "True\n",
      "True\n",
      "True\n",
      "True\n",
      "True\n",
      "True\n",
      "True\n",
      "True\n",
      "True\n",
      "True\n",
      "True\n",
      "True\n",
      "True\n",
      "True\n",
      "True\n"
     ]
    },
    {
     "ename": "NameError",
     "evalue": "name 'compute_game_result' is not defined",
     "output_type": "error",
     "traceback": [
      "\u001b[1;31m---------------------------------------------------------------------------\u001b[0m",
      "\u001b[1;31mNameError\u001b[0m                                 Traceback (most recent call last)",
      "\u001b[1;32m~\\Documents\\Future\\GitHub_Repo_Projects\\GitBash\\Go\\alpha_beta_go.py\u001b[0m in \u001b[0;36m<module>\u001b[1;34m\u001b[0m\n\u001b[0;32m     29\u001b[0m \u001b[1;33m\u001b[0m\u001b[0m\n\u001b[0;32m     30\u001b[0m \u001b[1;32mif\u001b[0m \u001b[0m__name__\u001b[0m \u001b[1;33m==\u001b[0m \u001b[1;34m'__main__'\u001b[0m\u001b[1;33m:\u001b[0m\u001b[1;33m\u001b[0m\u001b[1;33m\u001b[0m\u001b[0m\n\u001b[1;32m---> 31\u001b[1;33m     \u001b[0mmain\u001b[0m\u001b[1;33m(\u001b[0m\u001b[1;33m)\u001b[0m\u001b[1;33m\u001b[0m\u001b[1;33m\u001b[0m\u001b[0m\n\u001b[0m",
      "\u001b[1;32m~\\Documents\\Future\\GitHub_Repo_Projects\\GitBash\\Go\\alpha_beta_go.py\u001b[0m in \u001b[0;36mmain\u001b[1;34m()\u001b[0m\n\u001b[0;32m     22\u001b[0m             \u001b[0mmove\u001b[0m \u001b[1;33m=\u001b[0m \u001b[0mgotypes\u001b[0m\u001b[1;33m.\u001b[0m\u001b[0mMove\u001b[0m\u001b[1;33m.\u001b[0m\u001b[0mplay\u001b[0m\u001b[1;33m(\u001b[0m\u001b[0mpoint\u001b[0m\u001b[1;33m)\u001b[0m\u001b[1;33m\u001b[0m\u001b[1;33m\u001b[0m\u001b[0m\n\u001b[0;32m     23\u001b[0m         \u001b[1;32melse\u001b[0m\u001b[1;33m:\u001b[0m\u001b[1;33m\u001b[0m\u001b[1;33m\u001b[0m\u001b[0m\n\u001b[1;32m---> 24\u001b[1;33m             \u001b[0mmove\u001b[0m \u001b[1;33m=\u001b[0m \u001b[0mbot\u001b[0m\u001b[1;33m.\u001b[0m\u001b[0mselect_move\u001b[0m\u001b[1;33m(\u001b[0m\u001b[0mgame\u001b[0m\u001b[1;33m)\u001b[0m\u001b[1;33m\u001b[0m\u001b[1;33m\u001b[0m\u001b[0m\n\u001b[0m\u001b[0;32m     25\u001b[0m         \u001b[0mprint_move\u001b[0m\u001b[1;33m(\u001b[0m\u001b[0mgame\u001b[0m\u001b[1;33m.\u001b[0m\u001b[0mnext_player\u001b[0m\u001b[1;33m,\u001b[0m \u001b[0mmove\u001b[0m\u001b[1;33m)\u001b[0m\u001b[1;33m\u001b[0m\u001b[1;33m\u001b[0m\u001b[0m\n\u001b[0;32m     26\u001b[0m         \u001b[0mgame\u001b[0m \u001b[1;33m=\u001b[0m \u001b[0mgame\u001b[0m\u001b[1;33m.\u001b[0m\u001b[0mapply_move\u001b[0m\u001b[1;33m(\u001b[0m\u001b[0mmove\u001b[0m\u001b[1;33m)\u001b[0m\u001b[1;33m\u001b[0m\u001b[1;33m\u001b[0m\u001b[0m\n",
      "\u001b[1;32m~\\Documents\\Future\\GitHub_Repo_Projects\\GitBash\\Go\\dlgo1\\minimax\\alphabeta.py\u001b[0m in \u001b[0;36mselect_move\u001b[1;34m(self, game_state)\u001b[0m\n\u001b[0;32m     94\u001b[0m         \u001b[1;32mfor\u001b[0m \u001b[0mpossible_move\u001b[0m \u001b[1;32min\u001b[0m \u001b[0mlegal_move_list\u001b[0m\u001b[1;33m:\u001b[0m\u001b[1;33m\u001b[0m\u001b[1;33m\u001b[0m\u001b[0m\n\u001b[0;32m     95\u001b[0m             \u001b[0mnext_state\u001b[0m \u001b[1;33m=\u001b[0m \u001b[0mgame_state\u001b[0m\u001b[1;33m.\u001b[0m\u001b[0mapply_move\u001b[0m\u001b[1;33m(\u001b[0m\u001b[0mpossible_move\u001b[0m\u001b[1;33m)\u001b[0m\u001b[1;33m\u001b[0m\u001b[1;33m\u001b[0m\u001b[0m\n\u001b[1;32m---> 96\u001b[1;33m             \u001b[0mopponent_best_outcome\u001b[0m \u001b[1;33m=\u001b[0m \u001b[0malpha_beta_result\u001b[0m\u001b[1;33m(\u001b[0m\u001b[0mnext_state\u001b[0m\u001b[1;33m,\u001b[0m \u001b[0mself\u001b[0m\u001b[1;33m.\u001b[0m\u001b[0mmax_depth\u001b[0m\u001b[1;33m,\u001b[0m \u001b[0mbest_black\u001b[0m\u001b[1;33m,\u001b[0m \u001b[0mbest_white\u001b[0m\u001b[1;33m,\u001b[0m \u001b[0mself\u001b[0m\u001b[1;33m.\u001b[0m\u001b[0meval_fn\u001b[0m\u001b[1;33m)\u001b[0m\u001b[1;33m\u001b[0m\u001b[1;33m\u001b[0m\u001b[0m\n\u001b[0m\u001b[0;32m     97\u001b[0m             \u001b[0mour_best_outcome\u001b[0m \u001b[1;33m=\u001b[0m \u001b[1;33m-\u001b[0m\u001b[1;36m1\u001b[0m \u001b[1;33m*\u001b[0m \u001b[0mopponent_best_outcome\u001b[0m\u001b[1;33m\u001b[0m\u001b[1;33m\u001b[0m\u001b[0m\n\u001b[0;32m     98\u001b[0m             \u001b[1;32mif\u001b[0m \u001b[1;33m(\u001b[0m\u001b[1;32mnot\u001b[0m \u001b[0mbest_moves\u001b[0m\u001b[1;33m)\u001b[0m \u001b[1;32mor\u001b[0m \u001b[0mour_best_outcome\u001b[0m \u001b[1;33m>\u001b[0m \u001b[0mbest_score\u001b[0m\u001b[1;33m:\u001b[0m\u001b[1;33m\u001b[0m\u001b[1;33m\u001b[0m\u001b[0m\n",
      "\u001b[1;32m~\\Documents\\Future\\GitHub_Repo_Projects\\GitBash\\Go\\dlgo1\\minimax\\alphabeta.py\u001b[0m in \u001b[0;36malpha_beta_result\u001b[1;34m(game_state, max_depth, best_black, best_white, eval_fn)\u001b[0m\n\u001b[0;32m     58\u001b[0m             \u001b[0mnext_state\u001b[0m\u001b[1;33m,\u001b[0m \u001b[0mmax_depth\u001b[0m \u001b[1;33m-\u001b[0m \u001b[1;36m1\u001b[0m\u001b[1;33m,\u001b[0m\u001b[1;33m\u001b[0m\u001b[1;33m\u001b[0m\u001b[0m\n\u001b[0;32m     59\u001b[0m             \u001b[0mbest_black\u001b[0m\u001b[1;33m,\u001b[0m \u001b[0mbest_white\u001b[0m\u001b[1;33m,\u001b[0m\u001b[1;33m\u001b[0m\u001b[1;33m\u001b[0m\u001b[0m\n\u001b[1;32m---> 60\u001b[1;33m             eval_fn)\n\u001b[0m\u001b[0;32m     61\u001b[0m         \u001b[0mour_result\u001b[0m \u001b[1;33m=\u001b[0m \u001b[1;33m-\u001b[0m\u001b[1;36m1\u001b[0m \u001b[1;33m*\u001b[0m \u001b[0mopponent_best_result\u001b[0m\u001b[1;33m\u001b[0m\u001b[1;33m\u001b[0m\u001b[0m\n\u001b[0;32m     62\u001b[0m         \u001b[1;32mif\u001b[0m \u001b[0mour_result\u001b[0m \u001b[1;33m>\u001b[0m \u001b[0mbest_so_far\u001b[0m\u001b[1;33m:\u001b[0m\u001b[1;33m\u001b[0m\u001b[1;33m\u001b[0m\u001b[0m\n",
      "\u001b[1;32m~\\Documents\\Future\\GitHub_Repo_Projects\\GitBash\\Go\\dlgo1\\minimax\\alphabeta.py\u001b[0m in \u001b[0;36malpha_beta_result\u001b[1;34m(game_state, max_depth, best_black, best_white, eval_fn)\u001b[0m\n\u001b[0;32m     58\u001b[0m             \u001b[0mnext_state\u001b[0m\u001b[1;33m,\u001b[0m \u001b[0mmax_depth\u001b[0m \u001b[1;33m-\u001b[0m \u001b[1;36m1\u001b[0m\u001b[1;33m,\u001b[0m\u001b[1;33m\u001b[0m\u001b[1;33m\u001b[0m\u001b[0m\n\u001b[0;32m     59\u001b[0m             \u001b[0mbest_black\u001b[0m\u001b[1;33m,\u001b[0m \u001b[0mbest_white\u001b[0m\u001b[1;33m,\u001b[0m\u001b[1;33m\u001b[0m\u001b[1;33m\u001b[0m\u001b[0m\n\u001b[1;32m---> 60\u001b[1;33m             eval_fn)\n\u001b[0m\u001b[0;32m     61\u001b[0m         \u001b[0mour_result\u001b[0m \u001b[1;33m=\u001b[0m \u001b[1;33m-\u001b[0m\u001b[1;36m1\u001b[0m \u001b[1;33m*\u001b[0m \u001b[0mopponent_best_result\u001b[0m\u001b[1;33m\u001b[0m\u001b[1;33m\u001b[0m\u001b[0m\n\u001b[0;32m     62\u001b[0m         \u001b[1;32mif\u001b[0m \u001b[0mour_result\u001b[0m \u001b[1;33m>\u001b[0m \u001b[0mbest_so_far\u001b[0m\u001b[1;33m:\u001b[0m\u001b[1;33m\u001b[0m\u001b[1;33m\u001b[0m\u001b[0m\n",
      "\u001b[1;32m~\\Documents\\Future\\GitHub_Repo_Projects\\GitBash\\Go\\dlgo1\\minimax\\alphabeta.py\u001b[0m in \u001b[0;36malpha_beta_result\u001b[1;34m(game_state, max_depth, best_black, best_white, eval_fn)\u001b[0m\n\u001b[0;32m     58\u001b[0m             \u001b[0mnext_state\u001b[0m\u001b[1;33m,\u001b[0m \u001b[0mmax_depth\u001b[0m \u001b[1;33m-\u001b[0m \u001b[1;36m1\u001b[0m\u001b[1;33m,\u001b[0m\u001b[1;33m\u001b[0m\u001b[1;33m\u001b[0m\u001b[0m\n\u001b[0;32m     59\u001b[0m             \u001b[0mbest_black\u001b[0m\u001b[1;33m,\u001b[0m \u001b[0mbest_white\u001b[0m\u001b[1;33m,\u001b[0m\u001b[1;33m\u001b[0m\u001b[1;33m\u001b[0m\u001b[0m\n\u001b[1;32m---> 60\u001b[1;33m             eval_fn)\n\u001b[0m\u001b[0;32m     61\u001b[0m         \u001b[0mour_result\u001b[0m \u001b[1;33m=\u001b[0m \u001b[1;33m-\u001b[0m\u001b[1;36m1\u001b[0m \u001b[1;33m*\u001b[0m \u001b[0mopponent_best_result\u001b[0m\u001b[1;33m\u001b[0m\u001b[1;33m\u001b[0m\u001b[0m\n\u001b[0;32m     62\u001b[0m         \u001b[1;32mif\u001b[0m \u001b[0mour_result\u001b[0m \u001b[1;33m>\u001b[0m \u001b[0mbest_so_far\u001b[0m\u001b[1;33m:\u001b[0m\u001b[1;33m\u001b[0m\u001b[1;33m\u001b[0m\u001b[0m\n",
      "\u001b[1;32m~\\Documents\\Future\\GitHub_Repo_Projects\\GitBash\\Go\\dlgo1\\minimax\\alphabeta.py\u001b[0m in \u001b[0;36malpha_beta_result\u001b[1;34m(game_state, max_depth, best_black, best_white, eval_fn)\u001b[0m\n\u001b[0;32m     46\u001b[0m \u001b[1;32mdef\u001b[0m \u001b[0malpha_beta_result\u001b[0m\u001b[1;33m(\u001b[0m\u001b[0mgame_state\u001b[0m\u001b[1;33m,\u001b[0m \u001b[0mmax_depth\u001b[0m\u001b[1;33m,\u001b[0m \u001b[0mbest_black\u001b[0m\u001b[1;33m,\u001b[0m \u001b[0mbest_white\u001b[0m\u001b[1;33m,\u001b[0m \u001b[0meval_fn\u001b[0m\u001b[1;33m)\u001b[0m\u001b[1;33m:\u001b[0m\u001b[1;33m\u001b[0m\u001b[1;33m\u001b[0m\u001b[0m\n\u001b[0;32m     47\u001b[0m     \u001b[1;32mif\u001b[0m \u001b[0mgame_state\u001b[0m\u001b[1;33m.\u001b[0m\u001b[0mis_over\u001b[0m\u001b[1;33m(\u001b[0m\u001b[1;33m)\u001b[0m\u001b[1;33m:\u001b[0m\u001b[1;33m\u001b[0m\u001b[1;33m\u001b[0m\u001b[0m\n\u001b[1;32m---> 48\u001b[1;33m         \u001b[1;32mif\u001b[0m \u001b[0mgame_state\u001b[0m\u001b[1;33m.\u001b[0m\u001b[0mwinner\u001b[0m\u001b[1;33m(\u001b[0m\u001b[1;33m)\u001b[0m \u001b[1;33m==\u001b[0m \u001b[0mgame_state\u001b[0m\u001b[1;33m.\u001b[0m\u001b[0mnext_player\u001b[0m\u001b[1;33m:\u001b[0m\u001b[1;33m\u001b[0m\u001b[1;33m\u001b[0m\u001b[0m\n\u001b[0m\u001b[0;32m     49\u001b[0m             \u001b[1;32mreturn\u001b[0m \u001b[0mMAX_SCORE\u001b[0m\u001b[1;33m\u001b[0m\u001b[1;33m\u001b[0m\u001b[0m\n\u001b[0;32m     50\u001b[0m         \u001b[1;32melse\u001b[0m\u001b[1;33m:\u001b[0m\u001b[1;33m\u001b[0m\u001b[1;33m\u001b[0m\u001b[0m\n",
      "\u001b[1;32m~\\Documents\\Future\\GitHub_Repo_Projects\\GitBash\\Go\\dlgo1\\goboard_slow.py\u001b[0m in \u001b[0;36mwinner\u001b[1;34m(self)\u001b[0m\n\u001b[0;32m    241\u001b[0m             \u001b[1;31m#\u001b[0m\u001b[1;33m\u001b[0m\u001b[1;33m\u001b[0m\u001b[1;33m\u001b[0m\u001b[0m\n\u001b[0;32m    242\u001b[0m             \u001b[1;31m# haven't created compute_game_result\u001b[0m\u001b[1;33m\u001b[0m\u001b[1;33m\u001b[0m\u001b[1;33m\u001b[0m\u001b[0m\n\u001b[1;32m--> 243\u001b[1;33m         \u001b[0mgame_result\u001b[0m \u001b[1;33m=\u001b[0m \u001b[0mcompute_game_result\u001b[0m\u001b[1;33m(\u001b[0m\u001b[0mself\u001b[0m\u001b[1;33m)\u001b[0m\u001b[1;33m\u001b[0m\u001b[1;33m\u001b[0m\u001b[0m\n\u001b[0m\u001b[0;32m    244\u001b[0m         \u001b[1;32mreturn\u001b[0m \u001b[0mgame_result\u001b[0m\u001b[1;33m\u001b[0m\u001b[1;33m\u001b[0m\u001b[0m\n\u001b[0;32m    245\u001b[0m \u001b[1;33m\u001b[0m\u001b[0m\n",
      "\u001b[1;31mNameError\u001b[0m: name 'compute_game_result' is not defined"
     ]
    }
   ],
   "source": [
    "run alpha_beta_go"
   ]
  },
  {
   "cell_type": "code",
   "execution_count": null,
   "metadata": {},
   "outputs": [],
   "source": [
    "help(dlgo1.goboard_slow.Board)"
   ]
  },
  {
   "cell_type": "code",
   "execution_count": null,
   "metadata": {},
   "outputs": [],
   "source": [
    "from dlgo2.agent.base import Agent\n",
    "from dlgo2.agent.helpers import is_point_an_eye\n",
    "from dlgo2.gotypes import Move\n",
    "from dlgo2.gotypes import Point"
   ]
  },
  {
   "cell_type": "code",
   "execution_count": null,
   "metadata": {},
   "outputs": [],
   "source": [
    "import dlgo2"
   ]
  },
  {
   "cell_type": "code",
   "execution_count": null,
   "metadata": {},
   "outputs": [],
   "source": [
    "bots = {\n",
    "        gotypes.Player.black: agent.naive.RandomBot(),\n",
    "        gotypes.Player.white: agent.naive.RandomBot(),\n",
    "    }"
   ]
  },
  {
   "cell_type": "code",
   "execution_count": null,
   "metadata": {},
   "outputs": [],
   "source": [
    "bots[Player.black]"
   ]
  },
  {
   "cell_type": "code",
   "execution_count": null,
   "metadata": {},
   "outputs": [],
   "source": [
    "game.next_player"
   ]
  },
  {
   "cell_type": "code",
   "execution_count": null,
   "metadata": {},
   "outputs": [],
   "source": [
    "one, two = Point(4,3)\n",
    "print(one)\n",
    "print(two)"
   ]
  },
  {
   "cell_type": "code",
   "execution_count": null,
   "metadata": {},
   "outputs": [],
   "source": [
    "Move.play(Point(4,3))"
   ]
  },
  {
   "cell_type": "code",
   "execution_count": null,
   "metadata": {},
   "outputs": [],
   "source": [
    "game = goboard_slow.GameState.new_game(9)\n",
    "#agent.naive.RandomBot().select_move(game)\n",
    "print(game.next_player.other)\n"
   ]
  },
  {
   "cell_type": "code",
   "execution_count": null,
   "metadata": {},
   "outputs": [],
   "source": [
    "def select_movee():   \n",
    "    candidates = []\n",
    "    for r in range(1, game.board.num_rows + 1):\n",
    "        for c in range(1, game.board.num_cols + 1):\n",
    "            candidate = Point(row=r, col=c)#added first parameter to Move.play below to be \"1\"\n",
    "            if game.is_valid_move(Move.play(candidate)) and \\\n",
    "                    not is_point_an_eye(game.board, \\\n",
    "                                            candidate, \\\n",
    "                                            game.next_player):\n",
    "                candidates.append(candidate)\n",
    "    if not candidates:\n",
    "        return move.pass_turn()\n",
    "    return Move.play\n",
    "returned = select_movee()\n",
    "print(returned)"
   ]
  },
  {
   "cell_type": "code",
   "execution_count": null,
   "metadata": {},
   "outputs": [],
   "source": []
  },
  {
   "cell_type": "code",
   "execution_count": null,
   "metadata": {},
   "outputs": [],
   "source": []
  },
  {
   "cell_type": "code",
   "execution_count": null,
   "metadata": {},
   "outputs": [],
   "source": [
    "def get_dict_value(input):\n",
    "    try:\n",
    "        return p[input] \n",
    "    except:\n",
    "        return None"
   ]
  },
  {
   "cell_type": "code",
   "execution_count": null,
   "metadata": {},
   "outputs": [],
   "source": [
    "def new_game(cls, board_size):\n",
    "        if isinstance(board_size, int):\n",
    "            board_size = (board_size, board_size)\n",
    "        board = Board(*board_size)\n",
    "        return GameState(board, Player.black, None, None)"
   ]
  },
  {
   "cell_type": "code",
   "execution_count": null,
   "metadata": {},
   "outputs": [],
   "source": [
    "class Board():\n",
    "    def __init__(self, num_rows, num_cols):\n",
    "        self.num_rows = num_rows\n",
    "        self.num_cols = num_cols\n",
    "        self._grid = {}\n",
    "        \n",
    "    def is_on_grid(self, point):\n",
    "        \"returns boolean on whether point is within board bounds\"\n",
    "        return 1 <= point.row <= self.num_rows and \\\n",
    "            1 <= point.col <= self.num_cols\n",
    "\n",
    "    def get_grid_value(self, input):\n",
    "        try:\n",
    "            return self._grid[input] \n",
    "        except:\n",
    "            return None\n",
    "\n",
    "    def get(self, point):\n",
    "        string = get_grid_value(point)\n",
    "        if string is None:\n",
    "            return None\n",
    "        # getting the color of the point retrieved from the _grid, mabie...\n",
    "        return string.color\n",
    "\n",
    "    def get_go_string(self, point):\n",
    "        string = get_grid_value(point)\n",
    "        if string is None:\n",
    "            return None\n",
    "        return string\n",
    "\n",
    "    def _remove_string(self, string):\n",
    "        \"\"\"Black can capture a white stone, thereby regaining a liberty \n",
    "        for each of the Go strings adjacent to the captured stone.\"\"\"\n",
    "        for point in string.stones:\n",
    "            for neighbor in point.neighbors():\n",
    "                neighbor_string = get_grid_value(neighbor)\n",
    "                if neighbor_string is None:\n",
    "                    continue\n",
    "                if neighbor_string is not string:\n",
    "                    neighbor_string.add_liberty(point)\n",
    "            self._grid[point] = None\n",
    "\n",
    "\n",
    "    def place_stone(self, player, point):\n",
    "        #check whether the piece is placed within bounds of game board\n",
    "        assert self.is_on_grid(point)\n",
    "        assert get_grid_value(point) is None #used to be _grid.get(point)\n",
    "        adjacent_same_color = []\n",
    "        adjacent_opposite_color = []\n",
    "        liberties = []\n",
    "        for neighbor in point.neighbors(): # each of the four points around a particular point\n",
    "            if not self.is_on_grid(neighbor):\n",
    "                continue\n",
    "            neighbor_string = get_grid_value(point) #used to be _grid.get(neighbor)\n",
    "            if neighbor_string is None: # each of the four points around a particular point\n",
    "                liberties.append(neighbor)\n",
    "            elif neighbor_string.color == player:\n",
    "                if neighbor_string not in adjacent_same_color:\n",
    "                    adjacent_same_color.append(neighbor_string)\n",
    "            else:\n",
    "                if neighbor_string not in adjacent_opposite_color:\n",
    "                    adjacent_opposite_color.append(neighbor_string)\n",
    "        new_string = GoString(player, [point], liberties)\n",
    "        for same_color_string in adjacent_same_color:\n",
    "            new_string = new_string.merged_with(same_color_string)\n",
    "        for new_string_point in new_string.stones:\n",
    "            self._grid[new_string_point] = new_string\n",
    "        for other_color_string in adjacent_opposite_color:\n",
    "            other_color_string.remove_liberty(point)\n",
    "        for other_color_string in adjacent_opposite_color:\n",
    "            if other_color_string.numliberties == 0:\n",
    "                self._remove_string(other_color_string)\n",
    "\n",
    "#placing stones steps: "
   ]
  },
  {
   "cell_type": "code",
   "execution_count": null,
   "metadata": {},
   "outputs": [],
   "source": [
    "#boardtest = Board(9,9)\n",
    "boardtest = Board(*(9,9))\n",
    "type(boardtest)\n",
    "#GameState(boardtest, Player.black, None, None)"
   ]
  },
  {
   "cell_type": "code",
   "execution_count": null,
   "metadata": {},
   "outputs": [],
   "source": [
    "def new_game(cls, board_size):\n",
    "        if isinstance(board_size, int):\n",
    "            board_sized = (board_size, board_size)\n",
    "        board = Board(*board_sized)\n",
    "        return board\n",
    "        #return GameState(board, Player.black, None, None)"
   ]
  },
  {
   "cell_type": "code",
   "execution_count": null,
   "metadata": {},
   "outputs": [],
   "source": [
    "def get(self, point):\n",
    "        string = get_grid_value(point)\n",
    "        if string is None:\n",
    "            return None\n",
    "        # getting the color of the point retrieved from the _grid, mabie...\n",
    "        return string.color"
   ]
  },
  {
   "cell_type": "code",
   "execution_count": null,
   "metadata": {},
   "outputs": [],
   "source": [
    "def gett_grid_value(input):\n",
    "        try:\n",
    "            return boardd._grid[input] \n",
    "        except:\n",
    "            return None"
   ]
  },
  {
   "cell_type": "code",
   "execution_count": null,
   "metadata": {},
   "outputs": [],
   "source": [
    "boardd = new_game(1,9)\n",
    "#boardd.get(4)\n",
    "def funcc():\n",
    "    string = gett_grid_value(4)\n",
    "    if string is None:\n",
    "        return None\n",
    "    return string.color\n",
    "color = funcc()\n",
    "print(color)"
   ]
  },
  {
   "cell_type": "code",
   "execution_count": null,
   "metadata": {},
   "outputs": [],
   "source": [
    "from dlgo.goboard import GameState"
   ]
  },
  {
   "cell_type": "markdown",
   "metadata": {},
   "source": [
    "have classes to contain unique data\n",
    "method of a class do work to its own class or calls other class, methods\n",
    "file can be accessed through dot notation ei:  agent.base.agent"
   ]
  },
  {
   "cell_type": "code",
   "execution_count": null,
   "metadata": {},
   "outputs": [],
   "source": []
  }
 ],
 "metadata": {
  "kernelspec": {
   "display_name": "Python 3",
   "language": "python",
   "name": "python3"
  },
  "language_info": {
   "codemirror_mode": {
    "name": "ipython",
    "version": 3
   },
   "file_extension": ".py",
   "mimetype": "text/x-python",
   "name": "python",
   "nbconvert_exporter": "python",
   "pygments_lexer": "ipython3",
   "version": "3.7.3"
  }
 },
 "nbformat": 4,
 "nbformat_minor": 2
}
